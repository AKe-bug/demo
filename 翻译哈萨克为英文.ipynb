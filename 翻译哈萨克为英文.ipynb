{
 "cells": [
  {
   "cell_type": "code",
   "execution_count": 316,
   "metadata": {
    "ExecutionIndicator": {
     "show": true
    },
    "execution": {
     "iopub.execute_input": "2023-05-28T15:10:58.887666Z",
     "iopub.status.busy": "2023-05-28T15:10:58.887345Z",
     "iopub.status.idle": "2023-05-28T15:10:58.900097Z",
     "shell.execute_reply": "2023-05-28T15:10:58.899404Z",
     "shell.execute_reply.started": "2023-05-28T15:10:58.887648Z"
    },
    "id": "VqYneMIR2mUu",
    "tags": []
   },
   "outputs": [
    {
     "ename": "AttributeError",
     "evalue": "module 'torch' has no attribute 'version'",
     "output_type": "error",
     "traceback": [
      "\u001b[0;31m---------------------------------------------------------------------------\u001b[0m",
      "\u001b[0;31mAttributeError\u001b[0m                            Traceback (most recent call last)",
      "Cell \u001b[0;32mIn[316], line 3\u001b[0m\n\u001b[1;32m      1\u001b[0m \u001b[38;5;28;01mimport\u001b[39;00m \u001b[38;5;21;01mtorch\u001b[39;00m\n\u001b[0;32m----> 3\u001b[0m \u001b[38;5;28mprint\u001b[39m(\u001b[43mtorch\u001b[49m\u001b[38;5;241;43m.\u001b[39;49m\u001b[43mversion\u001b[49m)\n\u001b[1;32m      4\u001b[0m \u001b[38;5;28mprint\u001b[39m(torch\u001b[38;5;241m.\u001b[39mcuda\u001b[38;5;241m.\u001b[39mis_available())\n",
      "\u001b[0;31mAttributeError\u001b[0m: module 'torch' has no attribute 'version'"
     ]
    }
   ],
   "source": [
    "import torch\n",
    "\n",
    "print(torch.version)\n",
    "print(torch.cuda.is_available())"
   ]
  },
  {
   "cell_type": "code",
   "execution_count": 240,
   "metadata": {
    "ExecutionIndicator": {
     "show": true
    },
    "execution": {
     "iopub.execute_input": "2023-05-28T14:38:35.724458Z",
     "iopub.status.busy": "2023-05-28T14:38:35.724049Z",
     "iopub.status.idle": "2023-05-28T14:38:35.727392Z",
     "shell.execute_reply": "2023-05-28T14:38:35.726737Z",
     "shell.execute_reply.started": "2023-05-28T14:38:35.724431Z"
    },
    "tags": []
   },
   "outputs": [],
   "source": []
  },
  {
   "cell_type": "code",
   "execution_count": 314,
   "metadata": {
    "ExecutionIndicator": {
     "show": false
    },
    "execution": {
     "iopub.execute_input": "2023-05-28T15:02:48.878719Z",
     "iopub.status.busy": "2023-05-28T15:02:48.878408Z",
     "iopub.status.idle": "2023-05-28T15:02:49.154354Z",
     "shell.execute_reply": "2023-05-28T15:02:49.153638Z",
     "shell.execute_reply.started": "2023-05-28T15:02:48.878701Z"
    },
    "tags": []
   },
   "outputs": [
    {
     "name": "stdout",
     "output_type": "stream",
     "text": [
      "ok\n"
     ]
    }
   ],
   "source": [
    "import json\n",
    "\n",
    "# 从文件中读取 JSON 数据\n",
    "with open('output.json', 'r') as f:\n",
    "    data = json.load(f)\n",
    "source_english=\"\"\n",
    "source_kk=\"\"\n",
    "# 将数据写入文件夹中的源语言和目标语言文件\n",
    "for i, item in enumerate(data):\n",
    "    english = item['english']\n",
    "    kk = item['kk']\n",
    "    source_english+=english+'\\n'\n",
    "    source_kk+=kk+'\\n'\n",
    "\n",
    "with open(f'source.txt', 'w', encoding='utf-8') as f1:\n",
    "        f1.write(source_english)\n",
    "with open(f'target.txt', 'w', encoding='utf-8') as f2:\n",
    "        f2.write(source_kk)\n",
    "print('ok')"
   ]
  },
  {
   "cell_type": "code",
   "execution_count": null,
   "metadata": {
    "ExecutionIndicator": {
     "show": true
    },
    "id": "I8TVsDWt41JZ",
    "tags": []
   },
   "outputs": [],
   "source": [
    "all_parallel = []\n",
    "source_root = 'source.txt'\n",
    "target_root = 'target.txt'\n",
    "source = open(source_root).readlines()\n",
    "target = open(target_root).readlines()\n",
    "min_len = min(len(source), len(target))\n",
    "source = source[:min_len]\n",
    "target = target[:min_len]\n"
   ]
  },
  {
   "cell_type": "code",
   "execution_count": 315,
   "metadata": {
    "ExecutionIndicator": {
     "show": true
    },
    "execution": {
     "iopub.execute_input": "2023-05-28T15:09:12.289801Z",
     "iopub.status.busy": "2023-05-28T15:09:12.289500Z",
     "iopub.status.idle": "2023-05-28T15:09:12.293470Z",
     "shell.execute_reply": "2023-05-28T15:09:12.292870Z",
     "shell.execute_reply.started": "2023-05-28T15:09:12.289771Z"
    },
    "tags": []
   },
   "outputs": [
    {
     "name": "stdout",
     "output_type": "stream",
     "text": [
      "The first parameter to the script is saved to a variable called $IP.\n",
      "\n",
      "Сценарийдің бірінші параметрі $IP деп аталатын айнымалы ретінде сақталады.\n",
      "\n"
     ]
    }
   ],
   "source": [
    "print(source[20])\n",
    "print(target[20])"
   ]
  },
  {
   "cell_type": "code",
   "execution_count": 291,
   "metadata": {
    "ExecutionIndicator": {
     "show": false
    },
    "execution": {
     "iopub.execute_input": "2023-05-28T14:58:14.985878Z",
     "iopub.status.busy": "2023-05-28T14:58:14.985489Z",
     "iopub.status.idle": "2023-05-28T14:58:15.014955Z",
     "shell.execute_reply": "2023-05-28T14:58:15.014453Z",
     "shell.execute_reply.started": "2023-05-28T14:58:14.985856Z"
    },
    "tags": []
   },
   "outputs": [],
   "source": [
    "import os\n",
    "from sklearn.model_selection import train_test_split\n",
    "\n",
    "src_train, src_val, tgt_train, tgt_val = train_test_split(\n",
    "    source, target, test_size=10000, random_state=227)"
   ]
  },
  {
   "cell_type": "code",
   "execution_count": 292,
   "metadata": {
    "ExecutionIndicator": {
     "show": false
    },
    "execution": {
     "iopub.execute_input": "2023-05-28T14:58:16.202340Z",
     "iopub.status.busy": "2023-05-28T14:58:16.202012Z",
     "iopub.status.idle": "2023-05-28T14:58:16.240270Z",
     "shell.execute_reply": "2023-05-28T14:58:16.239694Z",
     "shell.execute_reply.started": "2023-05-28T14:58:16.202320Z"
    },
    "id": "8Swkv0t_5UIh",
    "tags": []
   },
   "outputs": [],
   "source": [
    "# 英文 -> 哈萨克\n",
    "with open('src-train.txt', 'w') as fp:\n",
    "    fp.write(''.join(tgt_train))\n",
    "with open('tgt-train.txt', 'w') as fp:\n",
    "    fp.write(''.join(src_train))\n",
    "with open('src-val.txt', 'w') as fp:\n",
    "    fp.write(''.join(tgt_val))\n",
    "with open('tgt-val.txt', 'w') as fp:\n",
    "    fp.write(''.join(src_val))"
   ]
  },
  {
   "cell_type": "code",
   "execution_count": 293,
   "metadata": {
    "ExecutionIndicator": {
     "show": true
    },
    "colab": {
     "base_uri": "https://localhost:8080/"
    },
    "execution": {
     "iopub.execute_input": "2023-05-28T14:58:17.921373Z",
     "iopub.status.busy": "2023-05-28T14:58:17.921050Z",
     "iopub.status.idle": "2023-05-28T14:58:18.300063Z",
     "shell.execute_reply": "2023-05-28T14:58:18.299457Z",
     "shell.execute_reply.started": "2023-05-28T14:58:17.921355Z"
    },
    "id": "198pQ7nRQcI9",
    "outputId": "ddd9d661-a92c-48d6-e1b8-5ddd96df7a76",
    "tags": []
   },
   "outputs": [
    {
     "name": "stdout",
     "output_type": "stream",
     "text": [
      "Люк әкесінің тозған коммуникантына қайтадан сорып, кейде мумиялап, көңіл көтере бастады, такси жүргізушісінің Джиди мен Джиди гигиенасы туралы пікірлеріне назар аудармайды.\n",
      "Бұл стандарт мемлекеттік шектеулердің көптігі және денсаулық сақтауға қол жеткізуді бақылау сияқты денсаулық сақтау жүйесінің қанша қаражат жұмсайтынын мемлекеттік бақылауға мүмкіндік береді.\n",
      "Бұл қағазда өзін-өзі аутентификациялайтын жалпыға қолжетімді кілт технологиясын пайдалану арқылы сенімхатқа қол қоюдың жаңа схемасы ұсынылады.\n",
      "Олар керемет болды, бірақ маған суық болды. (\"Маған суық иық бер\" емес)\n",
      "Сөйтіп, корольдің қызмет етушілері бұл туралы корольге әдемі вирджин тапқан дұрыс.\n",
      "Жақында мен өткенді еске түсіріп алғанды жақсы көремін, мен шынымен де қартайған сияқтымын.\n",
      "Гинкго билоба флавоноидтары жақсы антиоксиданттық әсер етеді және табиғи тиімді антиоксидант болып табылады.\n",
      "Г.Картмордың собықтары Гарридің ізін бүркемелеп, ол биік платформаның қадамдарына қарай мұқият жүріп өтті.\n",
      "Сондай-ақ олар хатты Симонның жоғары приставына берді және көшірмесін көшірді.\n",
      "Нинхуа бай Хакка мәдени түсініктеріне ие болып қана қоймай, терең революциялық тарихы бар.\n",
      "In the United States an estimated 90 percent of our historic fruit and vegetable varieties have vanished.\n",
      "While the chimpanzees in Bullinger’s experiment clearly understood how to collaborate, they likely viewed their partners as social tools, means to reach their own goals, the authors write.\n",
      "A new proxy signature scheme using self-certified public key is proposed.\n",
      "Director Piao: You ought to know Yang Shu shows surprising agility in compering a program. But how's your oral English?\n",
      "She did not finish, for by this time she was bending down and pushing the sweeping-brush under the bed.\n",
      "\" Meanwhile, the \"national animation quality engineering\" will start to build the whole industry chain service platform, boosting the animation industry from quantity to quality change.\n",
      "Fiber optic jumper, light, light power meter.\n",
      "We could also choose to create an InputStream directly.\n",
      "And they wrote a copy thereof to Simon the high priest, and to the people of the Jews.\n",
      "Nanjing not only Hakka culture has rich connotations, but also very deep historical background of the revolution.\n"
     ]
    }
   ],
   "source": [
    "# src -> source\n",
    "! head src-train.txt\n",
    "# tgt -> target\n",
    "!head tgt-train.txt"
   ]
  },
  {
   "cell_type": "code",
   "execution_count": 294,
   "metadata": {
    "execution": {
     "iopub.execute_input": "2023-05-28T14:58:34.275265Z",
     "iopub.status.busy": "2023-05-28T14:58:34.274895Z",
     "iopub.status.idle": "2023-05-28T14:58:34.278133Z",
     "shell.execute_reply": "2023-05-28T14:58:34.277657Z",
     "shell.execute_reply.started": "2023-05-28T14:58:34.275245Z"
    },
    "id": "ElVP-o0ArYLm",
    "tags": []
   },
   "outputs": [],
   "source": [
    "model_root = 'modern'"
   ]
  },
  {
   "cell_type": "code",
   "execution_count": 261,
   "metadata": {
    "execution": {
     "iopub.execute_input": "2023-05-28T14:43:17.722758Z",
     "iopub.status.busy": "2023-05-28T14:43:17.722438Z",
     "iopub.status.idle": "2023-05-28T14:43:17.912217Z",
     "shell.execute_reply": "2023-05-28T14:43:17.911552Z",
     "shell.execute_reply.started": "2023-05-28T14:43:17.722738Z"
    },
    "id": "xZ6NHAsU8rjw",
    "tags": []
   },
   "outputs": [],
   "source": [
    "!mkdir -p '{model_root}'"
   ]
  },
  {
   "cell_type": "code",
   "execution_count": 295,
   "metadata": {
    "execution": {
     "iopub.execute_input": "2023-05-28T14:58:35.111970Z",
     "iopub.status.busy": "2023-05-28T14:58:35.111662Z",
     "iopub.status.idle": "2023-05-28T14:58:35.115407Z",
     "shell.execute_reply": "2023-05-28T14:58:35.114951Z",
     "shell.execute_reply.started": "2023-05-28T14:58:35.111951Z"
    },
    "id": "gvatUnLT5fmi",
    "tags": []
   },
   "outputs": [],
   "source": [
    "# https://opennmt.net/OpenNMT-py/options/train.html\n",
    "# https://github.com/OpenNMT/OpenNMT-py/blob/master/docs/source/FAQ.md#how-do-i-use-the-transformer-model-do-you-support-multi-gpu\n",
    "yml = f'''# train.yaml\n",
    "## Where the samples will be written\n",
    "save_data: {model_root}\n",
    "## Where the vocab(s) will be written\n",
    "src_vocab: {model_root}/src.vocab\n",
    "tgt_vocab: {model_root}/src.vocab\n",
    "src_vocab_size: 200000\n",
    "tgt_vocab_size: 200000\n",
    "share_vocab: true\n",
    "\n",
    "# Batching\n",
    "queue_size: 100\n",
    "bucket_size: 2048\n",
    "world_size: 1\n",
    "gpu_ranks: [0]\n",
    "\n",
    "batch_size: 32\n",
    "valid_batch_size: 16\n",
    "\n",
    "# Corpus opts:\n",
    "data:\n",
    "    corpus_1:\n",
    "        path_src: src-train.txt\n",
    "        path_tgt: tgt-train.txt\n",
    "    valid:\n",
    "        path_src: src-val.txt\n",
    "        path_tgt: tgt-val.txt\n",
    "\n",
    "# Where to save the checkpoints\n",
    "save_model: {model_root}/model\n",
    "save_checkpoint_steps: 10000\n",
    "train_steps: 1000000\n",
    "valid_steps: 10000\n",
    "'''\n",
    "with open('train.yaml', 'w') as fp:\n",
    "    fp.write(yml)"
   ]
  },
  {
   "cell_type": "code",
   "execution_count": 296,
   "metadata": {
    "colab": {
     "base_uri": "https://localhost:8080/"
    },
    "execution": {
     "iopub.execute_input": "2023-05-28T14:58:42.421530Z",
     "iopub.status.busy": "2023-05-28T14:58:42.421162Z",
     "iopub.status.idle": "2023-05-28T14:58:42.619076Z",
     "shell.execute_reply": "2023-05-28T14:58:42.618438Z",
     "shell.execute_reply.started": "2023-05-28T14:58:42.421511Z"
    },
    "id": "EYeSvMPZRh5_",
    "outputId": "9ff63335-502f-41ad-9487-a31a11e36283",
    "tags": []
   },
   "outputs": [
    {
     "name": "stdout",
     "output_type": "stream",
     "text": [
      "Жұмыспен қамтуға қызмет көрсету тiкелей орталықтары еңбек брокерiнен өтпей-ақ шетелдiк отандық көмекшiлердi жұмысқа қабылдауға рұқсат етiлсiн.\n",
      "Біз сондай-ақ тәуекелге қарсы және алаяқтыққа қарсы ерекшеліктер жасадық.\n",
      "Сирия үкіметінің ондаған жылдар бойы төтенше заңның күшін жоюды мақұлдауы үкіметке қарсы наразылық білдірушілердің негізгі талаптарын қанағаттандырды.\n",
      "Мен осы ғаламшарда бар түрлі мәдениеттер мен адамдар туралы білуге уақыт жұмсауды таңдадым және өмірімнің қалған бөлігін осыған арнағаныма қуаныштымын.\n",
      "Екінші әдіс - XML деректерінің құрылымын шамамен білдіретін кейбір реляциялық кестелерді картаға түсіру үшін деректерді бөлу.\n",
      "Норманы есте сақтау үшін, егер нормадан ауытқығыңыз келсе, мұны мұқият қарағаннан кейін жасау керек.\n",
      "Оңтүстік Португалияның Альгарве аймағында орналасқан су итін өсіруші Карла ма? Күнделікті «24 сағат» газетіне берген сұхбатында Перальта: «Бәлкім, біздің ит таңдалатын шығар, неге жоқ?» - деді. \"\n",
      "Сондай-ақ газет Foxconn компаниясының Қытай операцияларының бас менеджері Ли Цзиньминге сұхбат берді, ол компанияның еңбек жағдайларын қорғап, Сунь мырзаның беделіне шабуыл жасауға аттанды.\n",
      "Егер сыйлы болғың келсе, онда ең алдымен өзіңді құрметтейсің.\n",
      "Белгінің бірінші цифры реферат бірліктерінде есептелген уақытты білдіреді; Жақшаларда қоса берілген екінші факультативтік нөмірде осы сәтте тоқтатылған сұраулардың саны көрсетіледі.\n"
     ]
    }
   ],
   "source": [
    "!tail src-train.txt"
   ]
  },
  {
   "cell_type": "code",
   "execution_count": 297,
   "metadata": {
    "colab": {
     "base_uri": "https://localhost:8080/"
    },
    "execution": {
     "iopub.execute_input": "2023-05-28T14:58:44.093976Z",
     "iopub.status.busy": "2023-05-28T14:58:44.093621Z",
     "iopub.status.idle": "2023-05-28T14:58:44.288249Z",
     "shell.execute_reply": "2023-05-28T14:58:44.287621Z",
     "shell.execute_reply.started": "2023-05-28T14:58:44.093955Z"
    },
    "id": "XupftTE3RiZr",
    "outputId": "86c30de2-18c0-45d7-c62d-9cf255d7d5c6",
    "tags": []
   },
   "outputs": [
    {
     "name": "stdout",
     "output_type": "stream",
     "text": [
      "A Direct Employment Service Center allows the rehiring of foreign domestic workers without going through labor brokers.\n",
      "In the state of the power, the resistance of the electric heaters, fuse silk in good condition is normal also, judgement is the thermostat failure.\n",
      "The wounded and dead piled up at Gaza's Shifa hospital yesterday.\n",
      "I am choosing to take the time to learn about the many cultures and peoples inhabiting the earth, and am happy to put the rest of my life on hold to do so.\n",
      "\"I knew there were a lot of rumours earlier in the season about other clubs being interested, but I always made my feelings clear when I was asked about the future, \" said Crouch.\n",
      "A spider's life can't help being something of a mess, with all this trapping and eating flies. By helping you, perhaps I was trying to lift up my life a trife.\n",
      "Perry dated Roberts after her appearance on the show. His verdict: \"She does leave toothpaste all over the sink and she's always wanting to borrow money\".\n",
      "I can not litter , I can tell my friends not to do it.\n",
      "Tf you want to be respected by others, you must first respect yourself.\n",
      "A village of northeast Illinois west of Chicago. It is mainly residential. Population, 15, 177.\n"
     ]
    }
   ],
   "source": [
    "!tail tgt-train.txt"
   ]
  },
  {
   "cell_type": "code",
   "execution_count": 298,
   "metadata": {
    "colab": {
     "base_uri": "https://localhost:8080/"
    },
    "execution": {
     "iopub.execute_input": "2023-05-28T14:58:45.443570Z",
     "iopub.status.busy": "2023-05-28T14:58:45.443190Z",
     "iopub.status.idle": "2023-05-28T14:58:45.639748Z",
     "shell.execute_reply": "2023-05-28T14:58:45.639104Z",
     "shell.execute_reply.started": "2023-05-28T14:58:45.443550Z"
    },
    "id": "3Pk_xNOLpQCb",
    "outputId": "d5550adc-8b06-4bf9-a078-424bd4fffee2",
    "tags": []
   },
   "outputs": [
    {
     "name": "stdout",
     "output_type": "stream",
     "text": [
      "Олардың халқы осыны бейнелейді, оларды катечумендер ретінде оқытып, приходтар мен епископтар ашты.\n",
      "Не айтса да, ағаш ананас әлемдегі ең жақсы жеміс болып табылады.\n",
      "Тағы бір күні радиодан «лорд ретінде мас» деген сөз тіркесі аристократтар өз уақыты мен ақшаларын маскүнемдікке жұмсаған уақыттан пайда болғанын естідім.\n",
      "Екінші жағынан, уақыт өте келе бір немесе екеуінің де көп өзгеріске ұшырағанын, өткенге қайта оралу мүмкін еместігін табуға болады.\n",
      "Чэнь Чэнгонгтың туған қаласы Фуцзянь провинциясының Нинд-Сити қаласында орналасқан, және ол әрдайым өз отбасының мақтанышы болған.\n",
      "Осы жыл мен тілектерді барынша толық көрсету үшін кейбір адамдар «бақыт келді» және «бата келді» дегенді көрсету үшін жай ғана «бата» сөзін үстін-үстін қойып отырады.\n",
      "Чжан Цинтинг еріндерін тазалап, «Мен мұны да білмеймін бе?» деп күлімсіреп кетеді.\n",
      "Олардың ішінде тірі скрининг әдістеріне негізінен: тамшылау әдісі, жапырақ батыру әдісі, жұмыртқаны батыру әдісі, жәндіктерді батыру әдісі, инъекция әдісі және бүріккіш әдісі жатады;\n",
      "Жеті ергежейлілер бірде-бір әйел тұрмайтын Энчант орманында терең өмір сүреді, бірақ Қар Уайт өз әлемін тастап кеткенде, олар әлі күнге дейін оның жазықсыз шеберлігіне бағына алмайды.\n",
      "Netbooks ноутбуктерден кіші, әдетте 8 — 12 дюймдік экранға ие, сымсыз байланыс пен Интернетке қол жеткізуге арналған.\n"
     ]
    }
   ],
   "source": [
    "!tail src-val.txt"
   ]
  },
  {
   "cell_type": "code",
   "execution_count": 299,
   "metadata": {
    "colab": {
     "base_uri": "https://localhost:8080/"
    },
    "execution": {
     "iopub.execute_input": "2023-05-28T14:58:46.806275Z",
     "iopub.status.busy": "2023-05-28T14:58:46.805907Z",
     "iopub.status.idle": "2023-05-28T14:58:46.999654Z",
     "shell.execute_reply": "2023-05-28T14:58:46.999038Z",
     "shell.execute_reply.started": "2023-05-28T14:58:46.806255Z"
    },
    "id": "x1MTTr__pRbM",
    "outputId": "57bce8aa-0f5b-438c-efe4-028db2b2b415",
    "tags": []
   },
   "outputs": [
    {
     "name": "stdout",
     "output_type": "stream",
     "text": [
      "It was they who were to say that it embodied what they had been taught as catechumens and had taught as priests and bishops.\n",
      "Within a Local Transaction Containment (LTC) boundary, you cannot have multiple active connection handles that use the same physical connections.\n",
      "Our Investment Financing Service will help you choose where to put your funds and look at both the pros and cons of each.\n",
      "He had to really be squeezed,\" Bernstein said in a 2006 interview. \"He confirmed mostly what we had gotten elsewhere.\n",
      "Chen Chenggong's family back in Ningde, Fujian province, has always been proud of his accomplishments.\n",
      "The US faces a rather easy to manage short run fiscal crisis, and very challenging long-term fiscal and growth problems.\n",
      "Chapter pure station purse one's lip ashore smiling, \" I even don't these all know?\"\n",
      "Now they spend a lot of time monitoring streams of data--tweets, status updates, headlines--from services like Facebook and Twitter, as well as from blogs and news outlets.\n",
      "Bryant shot 48.7 percent from the field in those games and has made 43 consecutive foul shots, proving he still can shoot.\n",
      "Netbooks are smaller laptop computers, usually with an 8- to 12-inch screen, and are designed for wireless communications and Internet access.\n"
     ]
    }
   ],
   "source": [
    "!tail tgt-val.txt"
   ]
  },
  {
   "cell_type": "code",
   "execution_count": 300,
   "metadata": {
    "ExecutionIndicator": {
     "show": true
    },
    "execution": {
     "iopub.execute_input": "2023-05-28T14:58:51.072499Z",
     "iopub.status.busy": "2023-05-28T14:58:51.072112Z",
     "iopub.status.idle": "2023-05-28T14:58:53.382841Z",
     "shell.execute_reply": "2023-05-28T14:58:53.382250Z",
     "shell.execute_reply.started": "2023-05-28T14:58:51.072478Z"
    },
    "id": "amsKlIsR6Byu",
    "tags": []
   },
   "outputs": [
    {
     "name": "stdout",
     "output_type": "stream",
     "text": [
      "Corpus corpus_1's weight should be given. We default it to 1 for you.\n",
      "[2023-05-28 22:58:52,015 INFO] Counter vocab from -1 samples.\n",
      "[2023-05-28 22:58:52,015 INFO] n_sample=-1: Build vocab on full datasets.\n",
      "[2023-05-28 22:58:52,949 INFO] Counters src: 99149\n",
      "[2023-05-28 22:58:52,950 INFO] Counters tgt: 80289\n",
      "[2023-05-28 22:58:52,987 INFO] Counters after share:176433\n"
     ]
    }
   ],
   "source": [
    "! onmt_build_vocab -config train.yaml --n_sample -1 || true"
   ]
  },
  {
   "cell_type": "code",
   "execution_count": null,
   "metadata": {
    "id": "yzUKJ6D6REOB"
   },
   "outputs": [],
   "source": []
  },
  {
   "cell_type": "code",
   "execution_count": 301,
   "metadata": {
    "colab": {
     "base_uri": "https://localhost:8080/"
    },
    "execution": {
     "iopub.execute_input": "2023-05-28T14:58:58.620755Z",
     "iopub.status.busy": "2023-05-28T14:58:58.620402Z",
     "iopub.status.idle": "2023-05-28T14:58:58.811443Z",
     "shell.execute_reply": "2023-05-28T14:58:58.810674Z",
     "shell.execute_reply.started": "2023-05-28T14:58:58.620735Z"
    },
    "id": "DPSetL0j5gWZ",
    "outputId": "bfb1933a-2d97-4451-9215-78a099f0c2b3",
    "tags": []
   },
   "outputs": [
    {
     "name": "stdout",
     "output_type": "stream",
     "text": [
      "model_step_1000.pt  src.vocab\n"
     ]
    }
   ],
   "source": [
    "!ls '{model_root}'"
   ]
  },
  {
   "cell_type": "code",
   "execution_count": 302,
   "metadata": {
    "colab": {
     "base_uri": "https://localhost:8080/"
    },
    "execution": {
     "iopub.execute_input": "2023-05-28T14:59:00.820846Z",
     "iopub.status.busy": "2023-05-28T14:59:00.820454Z",
     "iopub.status.idle": "2023-05-28T14:59:01.015861Z",
     "shell.execute_reply": "2023-05-28T14:59:01.015248Z",
     "shell.execute_reply.started": "2023-05-28T14:59:00.820822Z"
    },
    "id": "3OJ-1TJQ70pA",
    "outputId": "4ed457de-436a-4292-d0db-a1a2a54e169a",
    "tags": []
   },
   "outputs": [
    {
     "name": "stdout",
     "output_type": "stream",
     "text": [
      "176433 modern/src.vocab\n"
     ]
    }
   ],
   "source": [
    "!wc -l '{model_root}/src.vocab'"
   ]
  },
  {
   "cell_type": "code",
   "execution_count": 303,
   "metadata": {
    "colab": {
     "base_uri": "https://localhost:8080/"
    },
    "execution": {
     "iopub.execute_input": "2023-05-28T14:59:02.052903Z",
     "iopub.status.busy": "2023-05-28T14:59:02.052549Z",
     "iopub.status.idle": "2023-05-28T14:59:02.246661Z",
     "shell.execute_reply": "2023-05-28T14:59:02.246012Z",
     "shell.execute_reply.started": "2023-05-28T14:59:02.052883Z"
    },
    "id": "sEDnBoLcRG3T",
    "outputId": "3e8fb36c-2c96-466b-cf77-7e4911d85605",
    "tags": []
   },
   "outputs": [
    {
     "name": "stdout",
     "output_type": "stream",
     "text": [
      "the\t31128\n",
      "of\t18887\n",
      "and\t16094\n",
      "to\t12953\n",
      "a\t10680\n",
      "in\t10193\n",
      "және\t7900\n",
      "is\t7361\n",
      "The\t5014\n",
      "мен\t4782\n"
     ]
    }
   ],
   "source": [
    "!head '{model_root}/src.vocab'"
   ]
  },
  {
   "cell_type": "code",
   "execution_count": 304,
   "metadata": {
    "colab": {
     "base_uri": "https://localhost:8080/"
    },
    "execution": {
     "iopub.execute_input": "2023-05-28T14:59:11.596692Z",
     "iopub.status.busy": "2023-05-28T14:59:11.596343Z",
     "iopub.status.idle": "2023-05-28T14:59:11.952809Z",
     "shell.execute_reply": "2023-05-28T14:59:11.952118Z",
     "shell.execute_reply.started": "2023-05-28T14:59:11.596672Z"
    },
    "id": "kAWWv0U-tkLb",
    "outputId": "57d29b31-8f0c-42d5-8c2b-1bf6e26cb130",
    "tags": []
   },
   "outputs": [
    {
     "name": "stdout",
     "output_type": "stream",
     "text": [
      "Sun May 28 22:59:11 2023       \n",
      "+-----------------------------------------------------------------------------+\n",
      "| NVIDIA-SMI 470.103.01   Driver Version: 470.103.01   CUDA Version: 11.4     |\n",
      "|-------------------------------+----------------------+----------------------+\n",
      "| GPU  Name        Persistence-M| Bus-Id        Disp.A | Volatile Uncorr. ECC |\n",
      "| Fan  Temp  Perf  Pwr:Usage/Cap|         Memory-Usage | GPU-Util  Compute M. |\n",
      "|                               |                      |               MIG M. |\n",
      "|===============================+======================+======================|\n",
      "|   0  NVIDIA A10          Off  | 00000000:00:07.0 Off |                    0 |\n",
      "|  0%   26C    P8     9W / 150W |      2MiB / 22731MiB |      0%      Default |\n",
      "|                               |                      |                  N/A |\n",
      "+-------------------------------+----------------------+----------------------+\n",
      "                                                                               \n",
      "+-----------------------------------------------------------------------------+\n",
      "| Processes:                                                                  |\n",
      "|  GPU   GI   CI        PID   Type   Process name                  GPU Memory |\n",
      "|        ID   ID                                                   Usage      |\n",
      "|=============================================================================|\n",
      "|  No running processes found                                                 |\n",
      "+-----------------------------------------------------------------------------+\n"
     ]
    }
   ],
   "source": [
    "!nvidia-smi"
   ]
  },
  {
   "cell_type": "code",
   "execution_count": null,
   "metadata": {
    "ExecutionIndicator": {
     "show": true
    },
    "colab": {
     "base_uri": "https://localhost:8080/"
    },
    "id": "CZUuOyXD6L3o",
    "outputId": "8b9a4705-e1e5-4732-a3e7-b590a65f38f5",
    "tags": []
   },
   "outputs": [],
   "source": [
    "!onmt_train -config train.yaml"
   ]
  },
  {
   "cell_type": "code",
   "execution_count": 170,
   "metadata": {
    "colab": {
     "base_uri": "https://localhost:8080/"
    },
    "execution": {
     "iopub.execute_input": "2023-05-28T13:57:54.520897Z",
     "iopub.status.busy": "2023-05-28T13:57:54.520553Z",
     "iopub.status.idle": "2023-05-28T13:57:54.712513Z",
     "shell.execute_reply": "2023-05-28T13:57:54.711901Z",
     "shell.execute_reply.started": "2023-05-28T13:57:54.520877Z"
    },
    "id": "fff7__sctrNJ",
    "outputId": "ffb32847-6fd2-49b4-f706-3c53ba1335c2",
    "tags": []
   },
   "outputs": [
    {
     "name": "stdout",
     "output_type": "stream",
     "text": [
      "src.vocab\n"
     ]
    }
   ],
   "source": [
    "!ls '{model_root}'"
   ]
  },
  {
   "cell_type": "code",
   "execution_count": 308,
   "metadata": {
    "ExecutionIndicator": {
     "show": true
    },
    "execution": {
     "iopub.execute_input": "2023-05-28T15:01:06.405808Z",
     "iopub.status.busy": "2023-05-28T15:01:06.405506Z",
     "iopub.status.idle": "2023-05-28T15:01:06.409229Z",
     "shell.execute_reply": "2023-05-28T15:01:06.408663Z",
     "shell.execute_reply.started": "2023-05-28T15:01:06.405787Z"
    },
    "id": "5hYTsypP65CE",
    "tags": []
   },
   "outputs": [],
   "source": [
    "with open(f'test.txt', 'w', encoding='utf-8') as f1:\n",
    "        f1.write('Мен бұрын көрген ескі көлік сол жерде')"
   ]
  },
  {
   "cell_type": "code",
   "execution_count": 309,
   "metadata": {
    "colab": {
     "base_uri": "https://localhost:8080/"
    },
    "execution": {
     "iopub.execute_input": "2023-05-28T15:01:07.823906Z",
     "iopub.status.busy": "2023-05-28T15:01:07.823566Z",
     "iopub.status.idle": "2023-05-28T15:01:17.486769Z",
     "shell.execute_reply": "2023-05-28T15:01:17.486157Z",
     "shell.execute_reply.started": "2023-05-28T15:01:07.823885Z"
    },
    "id": "ugz49raTRDFQ",
    "outputId": "074cfbfb-9e0a-4819-9ac2-479c76758a8a",
    "tags": []
   },
   "outputs": [
    {
     "name": "stdout",
     "output_type": "stream",
     "text": [
      "[2023-05-28 23:01:17,118 INFO] PRED SCORE: -2.2664, PRED PPL: 9.64 NB SENTENCES: 1\n"
     ]
    }
   ],
   "source": [
    "! onmt_translate --model '{model_root}/model_step_1000.pt' --src test.txt --output pred.txt"
   ]
  },
  {
   "cell_type": "code",
   "execution_count": 311,
   "metadata": {
    "colab": {
     "base_uri": "https://localhost:8080/"
    },
    "execution": {
     "iopub.execute_input": "2023-05-28T15:01:23.352686Z",
     "iopub.status.busy": "2023-05-28T15:01:23.352351Z",
     "iopub.status.idle": "2023-05-28T15:01:23.550390Z",
     "shell.execute_reply": "2023-05-28T15:01:23.549667Z",
     "shell.execute_reply.started": "2023-05-28T15:01:23.352665Z"
    },
    "id": "A3X2ludxREyX",
    "outputId": "1cdd4a9f-f99e-4c3a-93e7-57cc056af83a",
    "tags": []
   },
   "outputs": [
    {
     "name": "stdout",
     "output_type": "stream",
     "text": [
      "This is the use of the use of the use of\n"
     ]
    }
   ],
   "source": [
    "! cat pred.txt"
   ]
  }
 ],
 "metadata": {
  "accelerator": "GPU",
  "colab": {
   "background_execution": "on",
   "collapsed_sections": [],
   "name": "翻译古文.ipynb",
   "provenance": []
  },
  "kernelspec": {
   "display_name": "Python 3 (ipykernel)",
   "language": "python",
   "name": "python3"
  },
  "language_info": {
   "codemirror_mode": {
    "name": "ipython",
    "version": 3
   },
   "file_extension": ".py",
   "mimetype": "text/x-python",
   "name": "python",
   "nbconvert_exporter": "python",
   "pygments_lexer": "ipython3",
   "version": "3.9.15"
  }
 },
 "nbformat": 4,
 "nbformat_minor": 4
}
